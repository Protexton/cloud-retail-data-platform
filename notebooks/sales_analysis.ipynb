{
 "cells": [
  {
   "cell_type": "markdown",
   "id": "71c8cc16",
   "metadata": {},
   "source": [
    "# 📊 Análisis de Ventas - Plataforma Retail"
   ]
  },
  {
   "cell_type": "markdown",
   "id": "449d47a2",
   "metadata": {},
   "source": [
    "Este notebook explora las ventas enriquecidas generadas por el pipeline ETL del proyecto `cloud-retail-data-platform`."
   ]
  },
  {
   "cell_type": "code",
   "execution_count": null,
   "id": "36ee846c",
   "metadata": {},
   "outputs": [],
   "source": [
    "import pandas as pd\n",
    "import matplotlib.pyplot as plt\n",
    "\n",
    "# Cargar datos procesados\n",
    "df = pd.read_csv('../data/processed/sales_enriched.csv')\n",
    "df['sale_date'] = pd.to_datetime(df['sale_date'])\n",
    "df.head()"
   ]
  },
  {
   "cell_type": "markdown",
   "id": "e2f849c8",
   "metadata": {},
   "source": [
    "## 🏬 Ventas totales por tienda"
   ]
  },
  {
   "cell_type": "code",
   "execution_count": null,
   "id": "ed909f42",
   "metadata": {},
   "outputs": [],
   "source": [
    "ventas_por_tienda = df.groupby('store_name')['total_value'].sum().sort_values(ascending=False)\n",
    "ventas_por_tienda.plot(kind='bar', figsize=(10,6), title='Ventas por Tienda', ylabel='Total €', xlabel='Tienda')\n",
    "plt.tight_layout()\n",
    "plt.show()"
   ]
  },
  {
   "cell_type": "markdown",
   "id": "d6965f19",
   "metadata": {},
   "source": [
    "## 📦 Productos más vendidos (por unidades)"
   ]
  },
  {
   "cell_type": "code",
   "execution_count": null,
   "id": "d5d6ab17",
   "metadata": {},
   "outputs": [],
   "source": [
    "productos_top = df.groupby('product_name')['quantity'].sum().sort_values(ascending=False).head(10)\n",
    "productos_top.plot(kind='barh', figsize=(10,6), title='Top 10 Productos más vendidos')\n",
    "plt.xlabel('Unidades vendidas')\n",
    "plt.tight_layout()\n",
    "plt.show()"
   ]
  },
  {
   "cell_type": "markdown",
   "id": "0959d96f",
   "metadata": {},
   "source": [
    "## 💶 Valor medio del ticket por cliente"
   ]
  },
  {
   "cell_type": "code",
   "execution_count": null,
   "id": "328fa017",
   "metadata": {},
   "outputs": [],
   "source": [
    "ticket_cliente = df.groupby('client_id')['total_value'].sum()\n",
    "print(\"Valor medio del ticket por cliente: €\", round(ticket_cliente.mean(), 2))"
   ]
  }
 ],
 "metadata": {},
 "nbformat": 4,
 "nbformat_minor": 5
}